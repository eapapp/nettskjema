{
 "cells": [
  {
   "attachments": {},
   "cell_type": "markdown",
   "id": "b96b0ff6-f0a1-4010-8f6e-dd8ac4c2a225",
   "metadata": {},
   "source": [
    "# Fetch form submissions from Nettskjema\n",
    "\n",
    "This notebook helps you fetch submissions in PDF for the following Nettskjema forms:\n",
    "\n",
    " - EBRAINS curation request form\n",
    " - EBRAINS Ethics Compliance Survey\n",
    " - Request for version addition\n",
    " \n",
    "The files are fetched via the Nettskjema API using a service account. This means you do not need to login to Nettskjema via Feide. These forms are only meant to be available to curators. Please do not share this notebook with others.\n",
    "\n",
    "To get started, please run the next cell."
   ]
  },
  {
   "cell_type": "code",
   "execution_count": 1,
   "id": "eeda824c-b2cb-4a24-ab4b-da82f5f86196",
   "metadata": {},
   "outputs": [],
   "source": [
    "%%capture\n",
    "%pip install python-dotenv oauthlib requests_oauthlib requests ndjson"
   ]
  },
  {
   "cell_type": "code",
   "execution_count": 2,
   "id": "dc6cb37e-b3d8-44cc-a0df-58e2dfd00006",
   "metadata": {},
   "outputs": [
    {
     "data": {
      "application/vnd.jupyter.widget-view+json": {
       "model_id": "df8b387fd447449180fa8b5d54c327f7",
       "version_major": 2,
       "version_minor": 0
      },
      "text/plain": [
       "HTML(value='<h3>Please select the Nettskjema forms you would like to fetch the latest submissions from:</h3>')"
      ]
     },
     "metadata": {},
     "output_type": "display_data"
    },
    {
     "data": {
      "application/vnd.jupyter.widget-view+json": {
       "model_id": "2fe923a71dee43e9a1dd1458f8a61bc2",
       "version_major": 2,
       "version_minor": 0
      },
      "text/plain": [
       "Checkbox(value=False, description='EBRAINS curation request form', indent=False)"
      ]
     },
     "metadata": {},
     "output_type": "display_data"
    },
    {
     "data": {
      "application/vnd.jupyter.widget-view+json": {
       "model_id": "08ece2ed18504ffab32321411d68c596",
       "version_major": 2,
       "version_minor": 0
      },
      "text/plain": [
       "Checkbox(value=False, description='EBRAINS Ethics Compliance Survey', indent=False)"
      ]
     },
     "metadata": {},
     "output_type": "display_data"
    },
    {
     "data": {
      "application/vnd.jupyter.widget-view+json": {
       "model_id": "440b656078fc4fcaaf8d0fd5cab11666",
       "version_major": 2,
       "version_minor": 0
      },
      "text/plain": [
       "Checkbox(value=False, description='Request for version addition', indent=False)"
      ]
     },
     "metadata": {},
     "output_type": "display_data"
    },
    {
     "data": {
      "application/vnd.jupyter.widget-view+json": {
       "model_id": "eb0faad039174625ac66d16e816274db",
       "version_major": 2,
       "version_minor": 0
      },
      "text/plain": [
       "Checkbox(value=False, description='Select all / clear selection', indent=False)"
      ]
     },
     "metadata": {},
     "output_type": "display_data"
    }
   ],
   "source": [
    "import nettskjema_scripts\n",
    "nettskjema_scripts.init()"
   ]
  },
  {
   "attachments": {},
   "cell_type": "markdown",
   "id": "8c856043",
   "metadata": {},
   "source": [
    "Run the next cell to download the latest PDFs for each form you have selected."
   ]
  },
  {
   "cell_type": "code",
   "execution_count": null,
   "id": "803384ce-9f29-4aa4-9056-2d1c7722a1a1",
   "metadata": {},
   "outputs": [],
   "source": [
    "nettskjema_scripts.fetch()"
   ]
  },
  {
   "cell_type": "code",
   "execution_count": null,
   "id": "7fa0aea0",
   "metadata": {},
   "outputs": [],
   "source": []
  }
 ],
 "metadata": {
  "kernelspec": {
   "display_name": "hbp_archive_test",
   "language": "python",
   "name": "hbp_archive_test"
  },
  "language_info": {
   "codemirror_mode": {
    "name": "ipython",
    "version": 3
   },
   "file_extension": ".py",
   "mimetype": "text/x-python",
   "name": "python",
   "nbconvert_exporter": "python",
   "pygments_lexer": "ipython3",
   "version": "3.8.0"
  }
 },
 "nbformat": 4,
 "nbformat_minor": 5
}
